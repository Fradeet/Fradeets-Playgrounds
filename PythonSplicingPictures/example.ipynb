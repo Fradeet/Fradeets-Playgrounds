{
 "cells": [
  {
   "cell_type": "code",
   "execution_count": null,
   "metadata": {},
   "outputs": [],
   "source": [
    "#横向拼接\n",
    "import os\n",
    "from PIL import Image\n",
    "\n",
    "UNIT_SIZE = 229 # 单个图像的大小为229*229\n",
    "TARGET_WIDTH = 6 * UNIT_SIZE # 拼接完后的横向长度为6*229\n",
    "\n",
    "path = \" \" #图片文件夹路径（到时是从网络获取）\n",
    "images = [] # 先存储所有的图像的名称\n",
    "for root, dirs, files in os.walk(path):     \n",
    "    for f in files :\n",
    "        images.append(f)\n",
    "for i in range(len(images)/6): # 6个图像为一组\n",
    "    imagefile = []\n",
    "    j = 0\n",
    "    for j in range(6):\n",
    "        imagefile.append(Image.open(path+'/'+images[i*6+j])) \n",
    "    target = Image.new('RGB', (TARGET_WIDTH, UNIT_SIZE)) #新建一个图片文件做基底   \n",
    "    left = 0\n",
    "    right = UNIT_SIZE\n",
    "    for image in imagefile:     \n",
    "        target.paste(image, (left, 0, right, UNIT_SIZE))# 将image复制到target的指定位置中\n",
    "        left += UNIT_SIZE # left是左上角的横坐标，依次递增\n",
    "        right += UNIT_SIZE # right是右下的横坐标，依次递增\n",
    "        quality_value = 100 # quality来指定生成图片的质量，范围是0～100\n",
    "        target.save(path+'/result/'+os.path.splitext(images[i*6+j])[0]+'.jpg', quality = quality_value)\n",
    "    imagefile = []"
   ]
  },
  {
   "cell_type": "code",
   "execution_count": null,
   "metadata": {},
   "outputs": [],
   "source": [
    "#同时横纵拼接\n",
    "import os\n",
    "from PIL import Image\n",
    "\n",
    "UNIT_SIZE = 229 # the size of image \n",
    "def pinjie(images,num):\n",
    "    target = Image.new('RGB', (UNIT_SIZE*5, UNIT_SIZE*2))   # result is 2*5\n",
    "    leftone = 0\n",
    "    lefttwo = 0\n",
    "    rightone = UNIT_SIZE\n",
    "    righttwo = UNIT_SIZE\n",
    "    for i in range(len(images)):\n",
    "        if(i%2==0):\n",
    "            target.paste(images[i], (leftone, 0, rightone, UNIT_SIZE))\n",
    "            leftone += UNIT_SIZE #第一行左上角右移\n",
    "            rightone += UNIT_SIZE #右下角右移\n",
    "        else:\n",
    "            target.paste(images[i], (lefttwo, UNIT_SIZE, righttwo, UNIT_SIZE*2))\n",
    "            lefttwo += UNIT_SIZE #第二行左上角右移\n",
    "            righttwo += UNIT_SIZE #右下角右移 \n",
    "    quality_value = 100\n",
    "    target.save(path+dirlist[num]+'.jpg', quality = quality_value)\n",
    "\n",
    "path = \"C:/Users/laojbdao/Desktop/FinalResult/result4/different_distribution/\"\n",
    "dirlist = [] # all dir name\n",
    "for root, dirs, files in os.walk(path):     \n",
    "    for dir in dirs :\n",
    "        dirlist.append(dir)\n",
    "\n",
    "num = 0\n",
    "for dir in dirlist:\n",
    "    images = [] # images in each folder\n",
    "    for root, dirs, files in os.walk(path+dir): # traverse each folder\n",
    "        print path+dir+''\n",
    "        for file in files:\n",
    "            images.append(Image.open(path+dir+'/'+file))\n",
    "    pinjie(images,num)\n",
    "    num +=1\n",
    "    images = []"
   ]
  },
  {
   "cell_type": "code",
   "execution_count": null,
   "metadata": {},
   "outputs": [],
   "source": [
    "a= ''\n",
    "b= input('key b')\n",
    "print(format.b)"
   ]
  }
 ],
 "metadata": {
  "kernelspec": {
   "display_name": "Python 3.10.4 64-bit",
   "language": "python",
   "name": "python3"
  },
  "language_info": {
   "name": "python",
   "version": "3.10.4"
  },
  "orig_nbformat": 4,
  "vscode": {
   "interpreter": {
    "hash": "abd718da95dfc0ee339a53bea0ad0a7414ec1712d0eb72131eb281eedc870d79"
   }
  }
 },
 "nbformat": 4,
 "nbformat_minor": 2
}
