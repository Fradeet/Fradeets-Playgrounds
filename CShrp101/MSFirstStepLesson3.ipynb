{
 "cells": [
  {
   "cell_type": "markdown",
   "metadata": {},
   "source": [
    "# 在 C# 中执行基本字符串格式设置\n",
    "[在 C# 中执行基本字符串格式设置](https://docs.microsoft.com/zh-cn/learn/modules/csharp-basic-formatting/)"
   ]
  },
  {
   "cell_type": "code",
   "execution_count": null,
   "metadata": {
    "dotnet_interactive": {
     "language": "csharp"
    },
    "vscode": {
     "languageId": "dotnet-interactive.csharp"
    }
   },
   "outputs": [
    {
     "name": "stdout",
     "output_type": "stream",
     "text": [
      "HelloWorld!"
     ]
    }
   ],
   "source": [
    "Console.Write(\"HelloWorld!\");"
   ]
  },
  {
   "cell_type": "code",
   "execution_count": null,
   "metadata": {
    "dotnet_interactive": {
     "language": "csharp"
    },
    "vscode": {
     "languageId": "dotnet-interactive.csharp"
    }
   },
   "outputs": [
    {
     "name": "stdout",
     "output_type": "stream",
     "text": [
      "Hello, World!\r\n",
      "Hello\n",
      "World!\r\n",
      "Hello\tWorld!\r\n",
      "Generating invoices for customer \"ABC Corp\" ...\n",
      "\r\n",
      "Invoice: 1021\t\tComplete!\r\n",
      "Invoice: 1022\t\tComplete!\r\n",
      "\n",
      "Output Directory:\t\r\n",
      "   c:\\source\\repos   \r\n",
      "      (this is where your code goes)\r\n",
      "こんにちは World!\r\n",
      "Hello Bob\r\n",
      "Hello Bob!\r\n",
      "View English output:\n",
      "\tc:\\Exercise\\ACME\\data.text\r\n",
      "Посмотреть русский вывод:\n",
      "\tc:\\Exercise\\ACME\\data.text\r\n"
     ]
    }
   ],
   "source": [
    "// See https://aka.ms/new-console-template for more information\n",
    "Console.WriteLine(\"Hello, World!\");\n",
    "//两个转义\n",
    "Console.WriteLine(\"Hello\\nWorld!\");\n",
    "Console.WriteLine(\"Hello\\tWorld!\");\n",
    "\n",
    "Console.WriteLine(\"Generating invoices for customer \\\"ABC Corp\\\" ...\\n\");\n",
    "Console.WriteLine(\"Invoice: 1021\\t\\tComplete!\");\n",
    "Console.WriteLine(\"Invoice: 1022\\t\\tComplete!\");\n",
    "Console.WriteLine(\"\\nOutput Directory:\\t\");\n",
    "//逐字输出\n",
    "Console.WriteLine(@\"   c:\\source\\repos   \n",
    "      (this is where your code goes)\");\n",
    "      \n",
    "// Kon'nichiwa World 日本语\n",
    "Console.WriteLine(\"\\u3053\\u3093\\u306B\\u3061\\u306F World!\");\n",
    "//连接文本字符串\n",
    "string firstName = \"Bob\";\n",
    "string message = \"Hello \" + firstName;\n",
    "Console.WriteLine(message);\n",
    "\n",
    "//string firstName = \"Bob\";\n",
    "string greeting = \"Hello\";\n",
    "Console.WriteLine($\"{greeting} {firstName}!\");\n",
    "\n",
    "//Challenge\n",
    "string projectName = \"ACME\";\n",
    "string russianMessage = \"\\u041f\\u043e\\u0441\\u043c\\u043e\\u0442\\u0440\\u0435\\u0442\\u044c \\u0440\\u0443\\u0441\\u0441\\u043a\\u0438\\u0439 \\u0432\\u044b\\u0432\\u043e\\u0434\";\n",
    "Console.WriteLine($\"View English output:\\n\\tc:\\\\Exercise\\\\{projectName}\\\\data.text\");\n",
    "Console.WriteLine($\"{russianMessage}:\\n\\tc:\\\\Exercise\\\\{projectName}\\\\data.text\");"
   ]
  },
  {
   "cell_type": "code",
   "execution_count": null,
   "metadata": {
    "dotnet_interactive": {
     "language": "csharp"
    },
    "vscode": {
     "languageId": "dotnet-interactive.csharp"
    }
   },
   "outputs": [],
   "source": []
  }
 ],
 "metadata": {
  "kernelspec": {
   "display_name": ".NET (C#)",
   "language": "C#",
   "name": ".net-csharp"
  },
  "language_info": {
   "name": "C#"
  }
 },
 "nbformat": 4,
 "nbformat_minor": 2
}
