{
 "cells": [
  {
   "cell_type": "markdown",
   "metadata": {},
   "source": [
    "课后选择题\n",
    "B B AxB?x CxB A D D (A) BxD AxD\n",
    "4.列表append一个列表,后列表会作为一个数值存入此列表 "
   ]
  },
  {
   "cell_type": "code",
   "execution_count": 6,
   "metadata": {},
   "outputs": [
    {
     "ename": "ValueError",
     "evalue": "list.remove(x): x not in list",
     "output_type": "error",
     "traceback": [
      "\u001b[1;31m---------------------------------------------------------------------------\u001b[0m",
      "\u001b[1;31mValueError\u001b[0m                                Traceback (most recent call last)",
      "\u001b[1;32mC:\\Users\\ZHILIA~1\\AppData\\Local\\Temp/ipykernel_19056/2898115599.py\u001b[0m in \u001b[0;36m<module>\u001b[1;34m\u001b[0m\n\u001b[0;32m     34\u001b[0m             \u001b[1;32mNone\u001b[0m\u001b[1;33m\u001b[0m\u001b[1;33m\u001b[0m\u001b[0m\n\u001b[0;32m     35\u001b[0m     \u001b[0mpxlist\u001b[0m\u001b[1;33m.\u001b[0m\u001b[0mappend\u001b[0m\u001b[1;33m(\u001b[0m\u001b[0mpd\u001b[0m\u001b[1;33m)\u001b[0m\u001b[1;33m\u001b[0m\u001b[1;33m\u001b[0m\u001b[0m\n\u001b[1;32m---> 36\u001b[1;33m     \u001b[0malphalist\u001b[0m\u001b[1;33m.\u001b[0m\u001b[0mremove\u001b[0m\u001b[1;33m(\u001b[0m\u001b[0mpd\u001b[0m\u001b[1;33m)\u001b[0m\u001b[1;33m\u001b[0m\u001b[1;33m\u001b[0m\u001b[0m\n\u001b[0m\u001b[0;32m     37\u001b[0m \u001b[1;31m#逐行输出\u001b[0m\u001b[1;33m\u001b[0m\u001b[1;33m\u001b[0m\u001b[0m\n\u001b[0;32m     38\u001b[0m \u001b[1;32mfor\u001b[0m \u001b[0mi\u001b[0m \u001b[1;32min\u001b[0m \u001b[0mpxlist\u001b[0m\u001b[1;33m:\u001b[0m\u001b[1;33m\u001b[0m\u001b[1;33m\u001b[0m\u001b[0m\n",
      "\u001b[1;31mValueError\u001b[0m: list.remove(x): x not in list"
     ]
    }
   ],
   "source": [
    "#T1字符串频率\n",
    "#todo:给定字符串\n",
    "words= input()\n",
    "#todo:字符串频率统计,小写\n",
    "alphabet= [chr(i) for i in range(97,123)]\n",
    "words= list(words)\n",
    "##遍历此列表,转换小写并剔除非字母\n",
    "counts= dict() #初始化空字典\n",
    "for i in words:\n",
    "    if i.lower() not in alphabet:\n",
    "        continue\n",
    "    #将小写字符统计增加至一个字典里\n",
    "    lowerI= i.lower()\n",
    "    num= counts.get(lowerI,0)\n",
    "    counts.update({lowerI:num+1})\n",
    "    \n",
    "#todo:降序排序\n",
    "#(废弃)提取出所有键的值排序,后放入\n",
    "#冒泡排序:最大到最小,去一个值后比对,直至比对完毕\n",
    "alphalist= list(counts.keys())\n",
    "pxlist= []\n",
    "while len(alphalist) >0:\n",
    "    pd= alphalist[0]\n",
    "    '''\n",
    "    while len(alphalist)== 1:\n",
    "        pxlist.append(pd)\n",
    "        alphalist.remove(pd)\n",
    "        break #循环的末端:最后一个数\n",
    "        #完全不用这一段,下面到最后列表没了自动跳过\n",
    "    '''\n",
    "    for i in alphalist:\n",
    "        inum= counts.get(i)\n",
    "        pdnum= counts.get(pd)\n",
    "        if pdnum < inum:\n",
    "            pd= i\n",
    "        else:\n",
    "            None\n",
    "    pxlist.append(pd)\n",
    "    alphalist.remove(pd)\n",
    "#逐行输出\n",
    "for i in pxlist:\n",
    "    number= counts.get(i)\n",
    "    print(\"{}:{}\".format(i,number))\n"
   ]
  },
  {
   "cell_type": "code",
   "execution_count": 8,
   "metadata": {},
   "outputs": [],
   "source": [
    "#T2所有字符排序\n",
    "\n"
   ]
  },
  {
   "cell_type": "code",
   "execution_count": 6,
   "metadata": {},
   "outputs": [
    {
     "name": "stdout",
     "output_type": "stream",
     "text": [
      "1y6180f10L\n"
     ]
    }
   ],
   "source": [
    "#T3随机密码\n",
    "#初始化结构表\n",
    "numlist= list(range(10))\n",
    "dazimulist= [chr(i)for i in range(65,91)]\n",
    "xiaozimulist= [chr(i)for i in range(97,123)]\n",
    "zimulist= dazimulist +xiaozimulist\n",
    "#随机选择字母数字表\n",
    "import random\n",
    "passwordlong= 10\n",
    "long= 1\n",
    "password= []#密码列表\n",
    "while long != 10:\n",
    "    ranlist= random.randint(1,2)\n",
    "    if ranlist == 1: #执行选字母\n",
    "        num= random.randint(0,52)\n",
    "        num= zimulist[num]\n",
    "        password.append(num)\n",
    "        long += 1\n",
    "    else:  #执行选数字\n",
    "        num= random.randint(0,10)\n",
    "        num = str(num)\n",
    "        password.append(num)\n",
    "        long += 1\n",
    "#组合字符串\n",
    "password = \"\".join(password)\n",
    "print(password)"
   ]
  },
  {
   "cell_type": "code",
   "execution_count": 19,
   "metadata": {},
   "outputs": [
    {
     "name": "stdout",
     "output_type": "stream",
     "text": [
      "True\n"
     ]
    }
   ],
   "source": [
    "#T4&T5:重复元素判定\n",
    "\n",
    "#子函数接收一个列表并复制,将这个列表转换为集合以数量判断是否有相同的元素,\n",
    "def listcompare(list1):\n",
    "    clist = list1.copy()\n",
    "    clen = len(clist)\n",
    "    '''\n",
    "    #下面启用的自动转换代码\n",
    "    listgroup = set()\n",
    "    for i in clist:\n",
    "        listgroup.add(clist)\n",
    "    '''\n",
    "    listgroup = set(clist)\n",
    "    listlen = len(listgroup)\n",
    "    if listlen == clen:\n",
    "        return\n",
    "    else:\n",
    "        return True #返回值\n",
    "    problemgroup = set()\n",
    "    for i in clist: #深度判定:逐个比对列表值,使用count统计数量.\n",
    "        a = clist[i]\n",
    "        num = clist.counts(a)\n",
    "        if num != 1:\n",
    "            problemgroup.add(a)\n",
    "        else:\n",
    "            return\n",
    "    print(problemgroup)\n",
    "def main(word1):\n",
    "    word1 = word1.split(\" \")\n",
    "    listcompare(word1)\n",
    "\n",
    "#主程序\n",
    "'''\n",
    "word = input()\n",
    "result = main(word)\n",
    "print(result)\n",
    "#暂时给定列表\n",
    "'''\n",
    "list2 = [100,\"100\",100]\n",
    "b = listcompare(list2)\n",
    "print(b)"
   ]
  }
 ],
 "metadata": {
  "interpreter": {
   "hash": "1fd7e7ed84a97154fdf27dd0562b9c7811bb9f8528f558bc873807066927ba64"
  },
  "kernelspec": {
   "display_name": "Python 3.10.1 64-bit",
   "language": "python",
   "name": "python3"
  },
  "language_info": {
   "codemirror_mode": {
    "name": "ipython",
    "version": 3
   },
   "file_extension": ".py",
   "mimetype": "text/x-python",
   "name": "python",
   "nbconvert_exporter": "python",
   "pygments_lexer": "ipython3",
   "version": "3.10.1"
  },
  "orig_nbformat": 4
 },
 "nbformat": 4,
 "nbformat_minor": 2
}
