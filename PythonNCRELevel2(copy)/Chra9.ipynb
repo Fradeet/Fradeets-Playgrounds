{
 "cells": [
  {
   "cell_type": "code",
   "execution_count": 11,
   "metadata": {},
   "outputs": [],
   "source": [
    "import turtle\n",
    "turtle.circle(40)"
   ]
  },
  {
   "cell_type": "code",
   "execution_count": 5,
   "metadata": {},
   "outputs": [],
   "source": [
    "turtle.screensize(100,100)"
   ]
  },
  {
   "cell_type": "code",
   "execution_count": 10,
   "metadata": {},
   "outputs": [],
   "source": [
    "turtle.setup(0.4,0.4,0,0)"
   ]
  },
  {
   "cell_type": "code",
   "execution_count": 14,
   "metadata": {},
   "outputs": [],
   "source": [
    "turtle.circle(50,180)\n",
    "turtle.circle(50,steps=9)"
   ]
  },
  {
   "cell_type": "code",
   "execution_count": 3,
   "metadata": {},
   "outputs": [],
   "source": [
    "from turtle import *\n",
    "setup(0.2,0.3,0,0)\n"
   ]
  },
  {
   "cell_type": "code",
   "execution_count": null,
   "metadata": {},
   "outputs": [],
   "source": [
    "###画笔参数\n",
    "penup()#提画笔\n",
    "pendown()#放画笔\n",
    "pensize(2)#笔粗细\n",
    "pencolor(\"pink\")#or (r,g,b)0~1 笔色\n",
    "color()#pen 和背景颜色 共同\n",
    "begin_fill()#填充\n",
    "end_fill()#框选完成\n",
    "filling()#*返回状态\n",
    "clear()#清空\n",
    "reset()#重设\n",
    "screensize()#设定窗口,和setup相似\n",
    "\n",
    "hideturtle()\n",
    "showturtle()\n",
    "\n",
    "isvisible()\n",
    "write(\"Hello!\")"
   ]
  },
  {
   "cell_type": "code",
   "execution_count": null,
   "metadata": {},
   "outputs": [],
   "source": [
    "forward(5)#前进\n",
    "backward(34)#后退\n",
    "right(54)#右转\n",
    "left(65)#左转\n",
    "goto(1,2)#移动坐标\n",
    "setx(4)#*移动x\n",
    "sety(6)#*移动y\n",
    "setheading(78)#*调整角度\n",
    "home()#*返回原点\n",
    "circle(45)#画圆或弧\n",
    "undo()#*撤销\n",
    "speed(10)#绘制速度\n"
   ]
  },
  {
   "cell_type": "markdown",
   "metadata": {},
   "source": [
    "习题\n",
    "A A xB C C B B A B D "
   ]
  },
  {
   "cell_type": "code",
   "execution_count": 15,
   "metadata": {},
   "outputs": [],
   "source": [
    "#T1绘制六边形\n",
    "\n",
    "#书上没教法\n",
    "turtle.circle(50,steps=6)\n",
    "\n",
    "#手动旋转画法\n",
    "turtle.forward(100)\n",
    "turtle.left(60)\n",
    "turtle.forward(100)\n",
    "turtle.left(60)\n",
    "turtle.forward(100)\n",
    "turtle.left(60)\n",
    "turtle.forward(100)\n",
    "turtle.left(60)\n",
    "turtle.forward(100)\n",
    "turtle.left(60)\n",
    "turtle.forward(100)\n",
    "turtle.left(60)\n",
    "\n"
   ]
  },
  {
   "cell_type": "code",
   "execution_count": 16,
   "metadata": {},
   "outputs": [],
   "source": [
    "#T2绘制玫瑰花\n",
    "\n",
    "#emmmm...玫瑰花长什么样?"
   ]
  },
  {
   "cell_type": "code",
   "execution_count": 20,
   "metadata": {},
   "outputs": [],
   "source": [
    "#T3绘制颜色图谱\n",
    "#只能显示二维图谱(xy轴)\n",
    "#使用跳画笔绘制单x线,加一个y再跳至头部(双for)\n",
    "#运行极慢\n",
    "'''\n",
    "import turtle\n",
    "turtle.speed(10)\n",
    "for i in range(100):\n",
    "    turtle.goto(0,i) #令其归位\n",
    "    for j in range(100):\n",
    "        turtle.color((i/100,j/100,1))\n",
    "        turtle.forward(1)\n",
    "'''\n",
    "#单色图谱\n",
    "import turtle\n",
    "turtle.speed(10)\n",
    "for i in range(100):\n",
    "    turtle.goto(0,i) #令其归位\n",
    "    turtle.color((i/100,0.65,1))\n",
    "    turtle.forward(100)"
   ]
  }
 ],
 "metadata": {
  "interpreter": {
   "hash": "1fd7e7ed84a97154fdf27dd0562b9c7811bb9f8528f558bc873807066927ba64"
  },
  "kernelspec": {
   "display_name": "Python 3.10.1 64-bit",
   "language": "python",
   "name": "python3"
  },
  "language_info": {
   "codemirror_mode": {
    "name": "ipython",
    "version": 3
   },
   "file_extension": ".py",
   "mimetype": "text/x-python",
   "name": "python",
   "nbconvert_exporter": "python",
   "pygments_lexer": "ipython3",
   "version": "3.10.1"
  },
  "orig_nbformat": 4
 },
 "nbformat": 4,
 "nbformat_minor": 2
}
