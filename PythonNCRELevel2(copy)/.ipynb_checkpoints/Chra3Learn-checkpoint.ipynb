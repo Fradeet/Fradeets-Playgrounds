{
 "cells": [
  {
   "cell_type": "raw",
   "id": "fa985cef-932c-458c-8f0e-b3d57f032f3c",
   "metadata": {},
   "source": [
    "习题3选择题: d a b a () a () "
   ]
  }
 ],
 "metadata": {
  "kernelspec": {
   "display_name": "Python 3 (ipykernel)",
   "language": "python",
   "name": "python3"
  },
  "language_info": {
   "codemirror_mode": {
    "name": "ipython",
    "version": 3
   },
   "file_extension": ".py",
   "mimetype": "text/x-python",
   "name": "python",
   "nbconvert_exporter": "python",
   "pygments_lexer": "ipython3",
   "version": "3.8.5"
  }
 },
 "nbformat": 4,
 "nbformat_minor": 5
}
