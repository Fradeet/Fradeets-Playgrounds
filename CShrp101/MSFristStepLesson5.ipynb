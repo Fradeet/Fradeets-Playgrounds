{
 "cells": [
  {
   "cell_type": "markdown",
   "metadata": {},
   "source": [
    "# 使用 C# 从 .NET 类库调用方法 \n",
    "[使用 C# 从 .NET 类库调用方法](https://docs.microsoft.com/zh-cn/learn/modules/csharp-call-methods/)"
   ]
  },
  {
   "cell_type": "markdown",
   "metadata": {},
   "source": [
    "类只是一种用于包含方法的容器。 开发者通常将相关方法保留在一个类中。 例如，可从命令行窗口发送或接收信息的任何方法都会被收集到 .NET 类库的 System.Console 类中。"
   ]
  },
  {
   "cell_type": "code",
   "execution_count": 1,
   "metadata": {
    "dotnet_interactive": {
     "language": "csharp"
    }
   },
   "outputs": [
    {
     "name": "stdout",
     "output_type": "stream",
     "text": [
      "3\r\n"
     ]
    }
   ],
   "source": [
    "//创建.NET类库Random类实例\n",
    "Random dice = new Random();\n",
    "//调用\n",
    "int roll = dice.Next(1, 7);\n",
    "Console.WriteLine(roll);"
   ]
  },
  {
   "cell_type": "code",
   "execution_count": 2,
   "metadata": {
    "dotnet_interactive": {
     "language": "csharp"
    }
   },
   "outputs": [
    {
     "name": "stdout",
     "output_type": "stream",
     "text": [
      "1\r\n"
     ]
    }
   ],
   "source": [
    "//仿照以上\n",
    "Random dice1 = new Random();\n",
    "//调用\n",
    "int roll = dice1.Next(1, 7);\n",
    "//无法执行,需要创建实例后使用\n",
    "//int roll = Random.Next(1, 7);\n",
    "Console.WriteLine(roll);"
   ]
  },
  {
   "cell_type": "markdown",
   "metadata": {},
   "source": [
    "## 有状态 无状态方法\n",
    "\n",
    "调用无状态方法时，无需先创建其类的新实例。\n",
    "\n",
    "某些方法的正常工作不依赖于应用程序的当前状态。 换言之，实现无状态方法是为了在不引用或更改内存中存储的任何值的情况下正常工作。 无状态方法也称为静态方法。"
   ]
  },
  {
   "cell_type": "markdown",
   "metadata": {},
   "source": []
  }
 ],
 "metadata": {
  "kernelspec": {
   "display_name": "Python 3",
   "language": "python",
   "name": "python3"
  },
  "language_info": {
   "file_extension": ".cs",
   "mimetype": "text/x-csharp",
   "name": "python",
   "pygments_lexer": "csharp",
   "version": "3.10.7 (tags/v3.10.7:6cc6b13, Sep  5 2022, 14:08:36) [MSC v.1933 64 bit (AMD64)]"
  },
  "orig_nbformat": 4,
  "vscode": {
   "interpreter": {
    "hash": "26de051ba29f2982a8de78e945f0abaf191376122a1563185a90213a26c5da77"
   }
  }
 },
 "nbformat": 4,
 "nbformat_minor": 2
}
