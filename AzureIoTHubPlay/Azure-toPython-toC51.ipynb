{
 "cells": [
  {
   "cell_type": "code",
   "execution_count": 1,
   "metadata": {},
   "outputs": [],
   "source": [
    "import azure.iot.device.aio"
   ]
  },
  {
   "cell_type": "code",
   "execution_count": 10,
   "metadata": {},
   "outputs": [
    {
     "name": "stdout",
     "output_type": "stream",
     "text": [
      "Device connected with result code: 0\n",
      "Device sent message\n",
      "Received message 'b'On light'' on topic 'devices/pcplay/messages/devicebound/%24.to=%2Fdevices%2Fpcplay%2Fmessages%2FdeviceBound&%24.ct=text%2Fplain%3B%20charset%3DUTF-8&%24.ce=utf-8' with QoS 0\n",
      "---------------\n",
      "On!\n",
      "Received message 'b'Off light'' on topic 'devices/pcplay/messages/devicebound/%24.to=%2Fdevices%2Fpcplay%2Fmessages%2FdeviceBound&%24.ct=text%2Fplain%3B%20charset%3DUTF-8&%24.ce=utf-8' with QoS 0\n",
      "---------------\n",
      "Off!\n",
      "Received message 'b'On light'' on topic 'devices/pcplay/messages/devicebound/%24.to=%2Fdevices%2Fpcplay%2Fmessages%2FdeviceBound&%24.ct=text%2Fplain%3B%20charset%3DUTF-8&%24.ce=utf-8' with QoS 0\n",
      "---------------\n",
      "On!\n"
     ]
    },
    {
     "ename": "KeyboardInterrupt",
     "evalue": "",
     "output_type": "error",
     "traceback": [
      "\u001b[1;31m---------------------------------------------------------------------------\u001b[0m",
      "\u001b[1;31mKeyboardInterrupt\u001b[0m                         Traceback (most recent call last)",
      "Cell \u001b[1;32mIn [10], line 73\u001b[0m\n\u001b[0;32m     70\u001b[0m client\u001b[38;5;241m.\u001b[39msubscribe(\u001b[38;5;124m\"\u001b[39m\u001b[38;5;124mdevices/\u001b[39m\u001b[38;5;124m\"\u001b[39m \u001b[38;5;241m+\u001b[39m device_id \u001b[38;5;241m+\u001b[39m \u001b[38;5;124m\"\u001b[39m\u001b[38;5;124m/messages/devicebound/#\u001b[39m\u001b[38;5;124m\"\u001b[39m, qos\u001b[38;5;241m=\u001b[39m\u001b[38;5;241m0\u001b[39m) \u001b[38;5;66;03m##prepare to recieve\u001b[39;00m\n\u001b[0;32m     72\u001b[0m client\u001b[38;5;241m.\u001b[39mpublish(\u001b[38;5;124m\"\u001b[39m\u001b[38;5;124mdevices/\u001b[39m\u001b[38;5;124m\"\u001b[39m \u001b[38;5;241m+\u001b[39m device_id \u001b[38;5;241m+\u001b[39m \u001b[38;5;124m\"\u001b[39m\u001b[38;5;124m/messages/events/\u001b[39m\u001b[38;5;124m\"\u001b[39m, \u001b[38;5;124m'\u001b[39m\u001b[38;5;124mHello MQTT!\u001b[39m\u001b[38;5;124m'\u001b[39m, qos\u001b[38;5;241m=\u001b[39m\u001b[38;5;241m1\u001b[39m) \u001b[38;5;66;03m## Sending\u001b[39;00m\n\u001b[1;32m---> 73\u001b[0m \u001b[43mclient\u001b[49m\u001b[38;5;241;43m.\u001b[39;49m\u001b[43mloop_forever\u001b[49m\u001b[43m(\u001b[49m\u001b[43m)\u001b[49m\n",
      "File \u001b[1;32m~\\AppData\\Roaming\\Python\\Python310\\site-packages\\paho\\mqtt\\client.py:1756\u001b[0m, in \u001b[0;36mClient.loop_forever\u001b[1;34m(self, timeout, max_packets, retry_first_connection)\u001b[0m\n\u001b[0;32m   1754\u001b[0m rc \u001b[39m=\u001b[39m MQTT_ERR_SUCCESS\n\u001b[0;32m   1755\u001b[0m \u001b[39mwhile\u001b[39;00m rc \u001b[39m==\u001b[39m MQTT_ERR_SUCCESS:\n\u001b[1;32m-> 1756\u001b[0m     rc \u001b[39m=\u001b[39m \u001b[39mself\u001b[39;49m\u001b[39m.\u001b[39;49m_loop(timeout)\n\u001b[0;32m   1757\u001b[0m     \u001b[39m# We don't need to worry about locking here, because we've\u001b[39;00m\n\u001b[0;32m   1758\u001b[0m     \u001b[39m# either called loop_forever() when in single threaded mode, or\u001b[39;00m\n\u001b[0;32m   1759\u001b[0m     \u001b[39m# in multi threaded mode when loop_stop() has been called and\u001b[39;00m\n\u001b[0;32m   1760\u001b[0m     \u001b[39m# so no other threads can access _out_packet or _messages.\u001b[39;00m\n\u001b[0;32m   1761\u001b[0m     \u001b[39mif\u001b[39;00m (\u001b[39mself\u001b[39m\u001b[39m.\u001b[39m_thread_terminate \u001b[39mis\u001b[39;00m \u001b[39mTrue\u001b[39;00m\n\u001b[0;32m   1762\u001b[0m         \u001b[39mand\u001b[39;00m \u001b[39mlen\u001b[39m(\u001b[39mself\u001b[39m\u001b[39m.\u001b[39m_out_packet) \u001b[39m==\u001b[39m \u001b[39m0\u001b[39m\n\u001b[0;32m   1763\u001b[0m             \u001b[39mand\u001b[39;00m \u001b[39mlen\u001b[39m(\u001b[39mself\u001b[39m\u001b[39m.\u001b[39m_out_messages) \u001b[39m==\u001b[39m \u001b[39m0\u001b[39m):\n",
      "File \u001b[1;32m~\\AppData\\Roaming\\Python\\Python310\\site-packages\\paho\\mqtt\\client.py:1150\u001b[0m, in \u001b[0;36mClient._loop\u001b[1;34m(self, timeout)\u001b[0m\n\u001b[0;32m   1147\u001b[0m     rlist \u001b[39m=\u001b[39m [\u001b[39mself\u001b[39m\u001b[39m.\u001b[39m_sock, \u001b[39mself\u001b[39m\u001b[39m.\u001b[39m_sockpairR]\n\u001b[0;32m   1149\u001b[0m \u001b[39mtry\u001b[39;00m:\n\u001b[1;32m-> 1150\u001b[0m     socklist \u001b[39m=\u001b[39m select\u001b[39m.\u001b[39;49mselect(rlist, wlist, [], timeout)\n\u001b[0;32m   1151\u001b[0m \u001b[39mexcept\u001b[39;00m \u001b[39mTypeError\u001b[39;00m:\n\u001b[0;32m   1152\u001b[0m     \u001b[39m# Socket isn't correct type, in likelihood connection is lost\u001b[39;00m\n\u001b[0;32m   1153\u001b[0m     \u001b[39mreturn\u001b[39;00m MQTT_ERR_CONN_LOST\n",
      "\u001b[1;31mKeyboardInterrupt\u001b[0m: "
     ]
    }
   ],
   "source": [
    "##Example\n",
    "from paho.mqtt import client as mqtt\n",
    "import ssl\n",
    "import serial\n",
    "\n",
    "path_to_root_cert = \"<local path to digicert.cer file>\"\n",
    "device_id = \"pcplay\"\n",
    "sas_token = \"SharedAccessSignature sr=yzliotplay.azure-devices.net%2Fdevices%2Fpcplay&sig=FM1mDolpFl1rn2iEadg6BZnnZbCAcZ5aLTKgSSBQPwU%3D&se=1664129301\"\n",
    "iot_hub_name = \"yzliotplay\"\n",
    "\n",
    "\n",
    "def on_connect(client, userdata, flags, rc): ##Start when connect\n",
    "    print(\"Device connected with result code: \" + str(rc))\n",
    "\n",
    "\n",
    "def on_disconnect(client, userdata, rc): ##Start when disconnect\n",
    "    print(\"Device disconnected with result code: \" + str(rc))\n",
    "\n",
    "\n",
    "def on_publish(client, userdata, mid): ##Start when sent\n",
    "    print(\"Device sent message\")\n",
    "\n",
    "def on_message(client, userdata, message): ##Start when recieve\n",
    "    msg = str(message.payload)\n",
    "    #print(msg)\n",
    "    print(\"Received message '\" + msg + \"' on topic '\"+ message.topic + \"' with QoS \" + str(message.qos))\n",
    "    \n",
    "    #与单片机通信\n",
    "    if (msg == \"b'Off light'\"):\n",
    "        push_hex(\"COM6\",2400,0xA2)\n",
    "        print(\"Off!\")\n",
    "    elif(msg == \"b'On light'\"):\n",
    "        push_hex(\"COM6\",2400,0xA1)\n",
    "        print(\"On!\")\n",
    "\n",
    "def push_hex(portNum,baudRate,hexContent):\n",
    "    try:\n",
    "        portx=portNum\n",
    "        bps=baudRate\n",
    "        #超时设置,None：永远等待操作，0为立即返回请求结果，其他值为等待超时时间(单位为秒）\n",
    "        timex=None\n",
    "        ser=serial.Serial(portx,bps,timeout=timex)\n",
    "        #print(\"串口详情参数：\", ser)\n",
    "\n",
    "        #十六进制的发送\n",
    "        result=ser.write(chr(hexContent).encode(\"utf-8\"))#写数据\n",
    "        #print(\"写总字节数:\",result)\n",
    "\n",
    "        print(\"---------------\")\n",
    "        ser.close()#关闭串口\n",
    "    except Exception as e:\n",
    "        print(\"---异常---：\",e)\n",
    "\n",
    "client = mqtt.Client(client_id=device_id, protocol=mqtt.MQTTv311)\n",
    "\n",
    "client.on_connect = on_connect ##link function\n",
    "client.on_disconnect = on_disconnect\n",
    "client.on_publish = on_publish\n",
    "client.on_message = on_message\n",
    "\n",
    "client.username_pw_set(username=iot_hub_name+\".azure-devices.net/\" +\n",
    "                       device_id + \"/?api-version=2021-04-12\", password=sas_token)\n",
    "\n",
    "client.tls_set(ca_certs=None, certfile=None, keyfile=None,  ## SSL/TLS\n",
    "               cert_reqs=ssl.CERT_REQUIRED, tls_version=ssl.PROTOCOL_TLSv1_2, ciphers=None)\n",
    "client.tls_insecure_set(False)\n",
    "\n",
    "client.connect(iot_hub_name+\".azure-devices.net\", port=8883) \n",
    "\n",
    "client.subscribe(\"devices/\" + device_id + \"/messages/devicebound/#\", qos=0) ##prepare to recieve\n",
    "\n",
    "client.publish(\"devices/\" + device_id + \"/messages/events/\", 'Hello MQTT!', qos=1) ## Sending\n",
    "client.loop_forever() ## whlie(1)"
   ]
  },
  {
   "cell_type": "code",
   "execution_count": 9,
   "metadata": {},
   "outputs": [
    {
     "name": "stdout",
     "output_type": "stream",
     "text": [
      "Device connected with result code: 5\n",
      "Device disconnected with result code: 5\n",
      "Device connected with result code: 5\n",
      "Device disconnected with result code: 5\n",
      "Device connected with result code: 5\n",
      "Device disconnected with result code: 5\n"
     ]
    },
    {
     "ename": "KeyboardInterrupt",
     "evalue": "",
     "output_type": "error",
     "traceback": [
      "\u001b[1;31m---------------------------------------------------------------------------\u001b[0m",
      "\u001b[1;31mKeyboardInterrupt\u001b[0m                         Traceback (most recent call last)",
      "Cell \u001b[1;32mIn [9], line 73\u001b[0m\n\u001b[0;32m     70\u001b[0m client\u001b[38;5;241m.\u001b[39msubscribe(\u001b[38;5;124m\"\u001b[39m\u001b[38;5;124mdevices/\u001b[39m\u001b[38;5;124m\"\u001b[39m \u001b[38;5;241m+\u001b[39m device_id \u001b[38;5;241m+\u001b[39m \u001b[38;5;124m\"\u001b[39m\u001b[38;5;124m/messages/devicebound/#\u001b[39m\u001b[38;5;124m\"\u001b[39m, qos\u001b[38;5;241m=\u001b[39m\u001b[38;5;241m0\u001b[39m) \u001b[38;5;66;03m##prepare to recieve\u001b[39;00m\n\u001b[0;32m     72\u001b[0m client\u001b[38;5;241m.\u001b[39mpublish(\u001b[38;5;124m\"\u001b[39m\u001b[38;5;124mdevices/\u001b[39m\u001b[38;5;124m\"\u001b[39m \u001b[38;5;241m+\u001b[39m device_id \u001b[38;5;241m+\u001b[39m \u001b[38;5;124m\"\u001b[39m\u001b[38;5;124m/messages/events/\u001b[39m\u001b[38;5;124m\"\u001b[39m, \u001b[38;5;124m'\u001b[39m\u001b[38;5;124mHello MQTT!\u001b[39m\u001b[38;5;124m'\u001b[39m, qos\u001b[38;5;241m=\u001b[39m\u001b[38;5;241m1\u001b[39m) \u001b[38;5;66;03m## Sending\u001b[39;00m\n\u001b[1;32m---> 73\u001b[0m \u001b[43mclient\u001b[49m\u001b[38;5;241;43m.\u001b[39;49m\u001b[43mloop_forever\u001b[49m\u001b[43m(\u001b[49m\u001b[43m)\u001b[49m\n",
      "File \u001b[1;32m~\\AppData\\Roaming\\Python\\Python310\\site-packages\\paho\\mqtt\\client.py:1773\u001b[0m, in \u001b[0;36mClient.loop_forever\u001b[1;34m(self, timeout, max_packets, retry_first_connection)\u001b[0m\n\u001b[0;32m   1771\u001b[0m     run \u001b[39m=\u001b[39m \u001b[39mFalse\u001b[39;00m\n\u001b[0;32m   1772\u001b[0m \u001b[39melse\u001b[39;00m:\n\u001b[1;32m-> 1773\u001b[0m     \u001b[39mself\u001b[39;49m\u001b[39m.\u001b[39;49m_reconnect_wait()\n\u001b[0;32m   1775\u001b[0m     \u001b[39mif\u001b[39;00m should_exit():\n\u001b[0;32m   1776\u001b[0m         run \u001b[39m=\u001b[39m \u001b[39mFalse\u001b[39;00m\n",
      "File \u001b[1;32m~\\AppData\\Roaming\\Python\\Python310\\site-packages\\paho\\mqtt\\client.py:3612\u001b[0m, in \u001b[0;36mClient._reconnect_wait\u001b[1;34m(self)\u001b[0m\n\u001b[0;32m   3607\u001b[0m remaining \u001b[39m=\u001b[39m target_time \u001b[39m-\u001b[39m now\n\u001b[0;32m   3608\u001b[0m \u001b[39mwhile\u001b[39;00m (\u001b[39mself\u001b[39m\u001b[39m.\u001b[39m_state \u001b[39m!=\u001b[39m mqtt_cs_disconnecting\n\u001b[0;32m   3609\u001b[0m         \u001b[39mand\u001b[39;00m \u001b[39mnot\u001b[39;00m \u001b[39mself\u001b[39m\u001b[39m.\u001b[39m_thread_terminate\n\u001b[0;32m   3610\u001b[0m         \u001b[39mand\u001b[39;00m remaining \u001b[39m>\u001b[39m \u001b[39m0\u001b[39m):\n\u001b[1;32m-> 3612\u001b[0m     time\u001b[39m.\u001b[39;49msleep(\u001b[39mmin\u001b[39;49m(remaining, \u001b[39m1\u001b[39;49m))\n\u001b[0;32m   3613\u001b[0m     remaining \u001b[39m=\u001b[39m target_time \u001b[39m-\u001b[39m time_func()\n",
      "\u001b[1;31mKeyboardInterrupt\u001b[0m: "
     ]
    }
   ],
   "source": [
    "#第二个实例(仅发消息去pcplay)\n",
    "##Example\n",
    "from paho.mqtt import client as mqtt\n",
    "import ssl\n",
    "#import serial\n",
    "\n",
    "path_to_root_cert = \"<local path to digicert.cer file>\"\n",
    "device_id = \"test\"\n",
    "sas_token = \"SharedAccessSignature sr=yzliotplay.azure-devices.net%2Fdevices%2Ftest&sig=FV1yPlqct2ncOHglZKrSAyayusl4EQmj7IUFTHMUMjs%3D&se=1664154506\"\n",
    "iot_hub_name = \"yzliotplay\"\n",
    "\n",
    "\n",
    "def on_connect(client, userdata, flags, rc): ##Start when connect\n",
    "    print(\"Device connected with result code: \" + str(rc))\n",
    "\n",
    "\n",
    "def on_disconnect(client, userdata, rc): ##Start when disconnect\n",
    "    print(\"Device disconnected with result code: \" + str(rc))\n",
    "\n",
    "\n",
    "def on_publish(client, userdata, mid): ##Start when sent\n",
    "    print(\"Device sent message\")\n",
    "\n",
    "def on_message(client, userdata, message): ##Start when recieve\n",
    "    msg = str(message.payload)\n",
    "    #print(msg)\n",
    "    print(\"Received message '\" + msg + \"' on topic '\"+ message.topic + \"' with QoS \" + str(message.qos))\n",
    "    \n",
    "    #与单片机通信\n",
    "    #if (msg == \"b'Off light'\"):\n",
    "        #push_hex(\"COM6\",2400,0xA2)\n",
    "        #print(\"Off!\")\n",
    "    #elif(msg == \"b'On light'\"):\n",
    "        #push_hex(\"COM6\",2400,0xA1)\n",
    "        #print(\"On!\")\n",
    "\n",
    "def push_hex(portNum,baudRate,hexContent):\n",
    "    try:\n",
    "        portx=portNum\n",
    "        bps=baudRate\n",
    "        #超时设置,None：永远等待操作，0为立即返回请求结果，其他值为等待超时时间(单位为秒）\n",
    "        timex=None\n",
    "        ser=serial.Serial(portx,bps,timeout=timex)\n",
    "        #print(\"串口详情参数：\", ser)\n",
    "\n",
    "        #十六进制的发送\n",
    "        result=ser.write(chr(hexContent).encode(\"utf-8\"))#写数据\n",
    "        #print(\"写总字节数:\",result)\n",
    "\n",
    "        print(\"---------------\")\n",
    "        ser.close()#关闭串口\n",
    "    except Exception as e:\n",
    "        print(\"---异常---：\",e)\n",
    "\n",
    "client = mqtt.Client(client_id=device_id, protocol=mqtt.MQTTv311)\n",
    "\n",
    "client.on_connect = on_connect ##link function\n",
    "client.on_disconnect = on_disconnect\n",
    "client.on_publish = on_publish\n",
    "client.on_message = on_message\n",
    "\n",
    "client.username_pw_set(username=iot_hub_name+\".azure-devices.net/\" +\n",
    "                       device_id + \"/?api-version=2021-04-12\", password=sas_token)\n",
    "\n",
    "client.tls_set(ca_certs=None, certfile=None, keyfile=None,  ## SSL/TLS\n",
    "               cert_reqs=ssl.CERT_REQUIRED, tls_version=ssl.PROTOCOL_TLSv1_2, ciphers=None)\n",
    "client.tls_insecure_set(False)\n",
    "\n",
    "client.connect(iot_hub_name+\".azure-devices.net\", port=8883) \n",
    "\n",
    "client.subscribe(\"devices/\" + device_id + \"/messages/devicebound/#\", qos=0) ##prepare to recieve\n",
    "\n",
    "client.publish(\"devices/\" + device_id + \"/messages/events/\", 'Hello MQTT!', qos=1) ## Sending\n",
    "client.loop_forever() ## whlie(1)"
   ]
  },
  {
   "cell_type": "code",
   "execution_count": 1,
   "metadata": {},
   "outputs": [
    {
     "name": "stdout",
     "output_type": "stream",
     "text": [
      "[<serial.tools.list_ports_common.ListPortInfo object at 0x0000019DE2ED7E80>, <serial.tools.list_ports_common.ListPortInfo object at 0x0000019DE2ED7850>, <serial.tools.list_ports_common.ListPortInfo object at 0x0000019DE2ED6DD0>, <serial.tools.list_ports_common.ListPortInfo object at 0x0000019DE2ED7A00>]\n",
      "COM3 - Oray Virtual Serial Device v2.0 (COM3)\n",
      "COM4 - Oray Virtual Serial Device v2.0 (COM4)\n",
      "COM5 - Oray Virtual Serial Device v2.0 (COM5)\n",
      "COM6 - USB-SERIAL CH340 (COM6)\n"
     ]
    }
   ],
   "source": [
    "##编写一个单片机串口通信\n",
    "\n"
   ]
  },
  {
   "cell_type": "code",
   "execution_count": null,
   "metadata": {},
   "outputs": [],
   "source": [
    "##获取可用串口\n",
    "import serial #导入模块\n",
    "\n",
    "import serial.tools.list_ports\n",
    "port_list = list(serial.tools.list_ports.comports())\n",
    "print(port_list)\n",
    "if len(port_list) == 0:\n",
    "   print('无可用串口')\n",
    "else:\n",
    "    for i in range(0,len(port_list)):\n",
    "        print(port_list[i])"
   ]
  },
  {
   "cell_type": "code",
   "execution_count": null,
   "metadata": {},
   "outputs": [],
   "source": [
    "##简单串口程序\n",
    "import serial #导入模块\n",
    "try:\n",
    "  #端口，GNU / Linux上的/ dev / ttyUSB0 等 或 Windows上的 COM3 等\n",
    "  portx=\"COM6\"\n",
    "  #波特率，标准值之一：50,75,110,134,150,200,300,600,1200,1800,2400,4800,9600,19200,38400,57600,115200\n",
    "  bps=2400\n",
    "  #超时设置,None：永远等待操作，0为立即返回请求结果，其他值为等待超时时间(单位为秒）\n",
    "  timex=5\n",
    "  # 打开串口，并得到串口对象\n",
    "  ser=serial.Serial(portx,bps,timeout=timex)\n",
    "\n",
    "  # 写数据\n",
    "  result=ser.write(\"我是东小东\".encode(\"gbk\"))\n",
    "  print(\"写总字节数:\",result)\n",
    "\n",
    "  ser.close()#关闭串口\n",
    "\n",
    "except Exception as e:\n",
    "    print(\"---异常---：\",e)"
   ]
  },
  {
   "cell_type": "code",
   "execution_count": 1,
   "metadata": {},
   "outputs": [
    {
     "name": "stdout",
     "output_type": "stream",
     "text": [
      "串口详情参数： Serial<id=0x2002bb7e8f0, open=True>(port='COM6', baudrate=2400, bytesize=8, parity='N', stopbits=1, timeout=None, xonxoff=False, rtscts=False, dsrdtr=False)\n",
      "写总字节数: 2\n"
     ]
    }
   ],
   "source": [
    "#十六进制处理\n",
    "import serial #导入模块\n",
    "try:\n",
    "  portx=\"COM6\"\n",
    "  bps=2400\n",
    "  #超时设置,None：永远等待操作，0为立即返回请求结果，其他值为等待超时时间(单位为秒）\n",
    "  timex=None\n",
    "  ser=serial.Serial(portx,bps,timeout=timex)\n",
    "  print(\"串口详情参数：\", ser)\n",
    "\n",
    "  #十六进制的发送\n",
    "  result=ser.write(chr(0xA2).encode(\"utf-8\"))#写数据\n",
    "  print(\"写总字节数:\",result)\n",
    "\n",
    "  #十六进制的读取\n",
    "  print(ser.read().hex())#读一个字节\n",
    "\n",
    "  print(\"---------------\")\n",
    "  ser.close()#关闭串口\n",
    "\n",
    "except Exception as e:\n",
    "    print(\"---异常---：\",e)"
   ]
  }
 ],
 "metadata": {
  "kernelspec": {
   "display_name": "Python 3.10.7 64-bit",
   "language": "python",
   "name": "python3"
  },
  "language_info": {
   "codemirror_mode": {
    "name": "ipython",
    "version": 3
   },
   "file_extension": ".py",
   "mimetype": "text/x-python",
   "name": "python",
   "nbconvert_exporter": "python",
   "pygments_lexer": "ipython3",
   "version": "3.10.7"
  },
  "orig_nbformat": 4,
  "vscode": {
   "interpreter": {
    "hash": "26de051ba29f2982a8de78e945f0abaf191376122a1563185a90213a26c5da77"
   }
  }
 },
 "nbformat": 4,
 "nbformat_minor": 2
}
