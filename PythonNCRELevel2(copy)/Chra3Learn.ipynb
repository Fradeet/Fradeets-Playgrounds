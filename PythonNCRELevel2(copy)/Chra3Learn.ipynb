{
 "cells": [
  {
   "cell_type": "raw",
   "id": "fa985cef-932c-458c-8f0e-b3d57f032f3c",
   "metadata": {},
   "source": [
    "习题3选择题: dxc a bxa a (d) a (c) d a c "
   ]
  },
  {
   "cell_type": "code",
   "execution_count": null,
   "id": "d2276d4b-efb5-4daa-ba2f-481ac0f2df1a",
   "metadata": {},
   "outputs": [],
   "source": []
  },
  {
   "cell_type": "code",
   "execution_count": 1,
   "id": "6b580a70-f8c9-468b-8e09-dd92b2378d36",
   "metadata": {},
   "outputs": [
    {
     "name": "stdout",
     "output_type": "stream",
     "text": [
      "\n"
     ]
    }
   ],
   "source": [
    "#T1\n",
    "num = input()\n",
    "dot = 0\n",
    "finish = 0\n",
    "try:\n",
    "    dot = num.index(\".\")\n",
    "except:\n",
    "    num = num\n",
    "    print(num[:-2])\n",
    "    finish = 1\n",
    "if finish == 0:\n",
    "    print(num[:dot-2])"
   ]
  },
  {
   "cell_type": "code",
   "execution_count": 21,
   "id": "68a18643-6771-4238-97a3-628d80f5dcfa",
   "metadata": {},
   "outputs": [
    {
     "name": "stdout",
     "output_type": "stream",
     "text": [
      " hello world !\n"
     ]
    },
    {
     "name": "stdout",
     "output_type": "stream",
     "text": [
      "hello\n",
      "world\n",
      "!\n"
     ]
    }
   ],
   "source": [
    "#T2\n",
    "speak = input()\n",
    "speak_list = speak.split(\" \")\n",
    "for i in range(len(speak_list)):\n",
    "    print(speak_list[i])\n"
   ]
  },
  {
   "cell_type": "code",
   "execution_count": 28,
   "id": "c6b392ff-be0b-4222-953c-7e9879822ae6",
   "metadata": {},
   "outputs": [
    {
     "name": "stdout",
     "output_type": "stream",
     "text": [
      " 4\n"
     ]
    },
    {
     "name": "stdout",
     "output_type": "stream",
     "text": [
      "四\n"
     ]
    }
   ],
   "source": [
    "#T3\n",
    "xingqi = [\"一\",\"二\",\"三\",\"四\",\"五\",\"六\",\"天\"]\n",
    "num = int(input())\n",
    "print(xingqi[num-1])"
   ]
  },
  {
   "cell_type": "raw",
   "id": "6cdcf076-139f-48a7-9644-7b0e51be3b7c",
   "metadata": {},
   "source": [
    "为什么是减一?"
   ]
  },
  {
   "cell_type": "code",
   "execution_count": 31,
   "id": "c6bf5063-e9cc-4adf-aab3-958eb7525e55",
   "metadata": {},
   "outputs": [],
   "source": [
    "#T4回文数\n"
   ]
  },
  {
   "cell_type": "code",
   "execution_count": null,
   "id": "0b5ccdb6-0dd2-4ab4-b5c6-0c7ece041065",
   "metadata": {},
   "outputs": [],
   "source": [
    "#T5进制转换\n"
   ]
  }
 ],
 "metadata": {
  "kernelspec": {
   "display_name": "Python 3 (ipykernel)",
   "language": "python",
   "name": "python3"
  },
  "language_info": {
   "codemirror_mode": {
    "name": "ipython",
    "version": 3
   },
   "file_extension": ".py",
   "mimetype": "text/x-python",
   "name": "python",
   "nbconvert_exporter": "python",
   "pygments_lexer": "ipython3",
   "version": "3.10.1"
  }
 },
 "nbformat": 4,
 "nbformat_minor": 5
}
