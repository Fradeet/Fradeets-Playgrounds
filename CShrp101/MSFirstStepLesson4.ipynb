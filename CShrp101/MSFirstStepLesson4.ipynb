{
 "cells": [
  {
   "cell_type": "code",
   "execution_count": null,
   "metadata": {
    "dotnet_interactive": {
     "language": "csharp"
    },
    "vscode": {
     "languageId": "dotnet-interactive.csharp"
    }
   },
   "outputs": [
    {
     "name": "stdout",
     "output_type": "stream",
     "text": [
      "19\r\n"
     ]
    }
   ],
   "source": [
    "int firstNumber= 12;\n",
    "int secondNumber= 7;\n",
    "Console.WriteLine(firstNumber + secondNumber)\n",
    "//当变量只有数时会执行数学运算"
   ]
  },
  {
   "cell_type": "code",
   "execution_count": null,
   "metadata": {
    "dotnet_interactive": {
     "language": "csharp"
    },
    "vscode": {
     "languageId": "dotnet-interactive.csharp"
    }
   },
   "outputs": [
    {
     "name": "stdout",
     "output_type": "stream",
     "text": [
      "Bob sold 7 widgets.\r\n"
     ]
    }
   ],
   "source": [
    "//解释器尝试转换\n",
    "string firstName= \"Bob\";\n",
    "int widgetSold= 7;\n",
    "Console.WriteLine(firstName+\" sold \"+widgetSold+\" widgets.\");\n",
    "//C#的两个Convert模块"
   ]
  },
  {
   "cell_type": "code",
   "execution_count": null,
   "metadata": {
    "dotnet_interactive": {
     "language": "csharp"
    },
    "vscode": {
     "languageId": "dotnet-interactive.csharp"
    }
   },
   "outputs": [
    {
     "name": "stdout",
     "output_type": "stream",
     "text": [
      "Bob sold 77 widgets.\r\n"
     ]
    }
   ],
   "source": [
    "//转换数字\n",
    "string firstName = \"Bob\";\n",
    "int widgetsSold = 7;\n",
    "Console.WriteLine(firstName + \" sold \" + widgetsSold + 7 + \" widgets.\");"
   ]
  },
  {
   "cell_type": "code",
   "execution_count": null,
   "metadata": {
    "dotnet_interactive": {
     "language": "csharp"
    },
    "vscode": {
     "languageId": "dotnet-interactive.csharp"
    }
   },
   "outputs": [
    {
     "name": "stdout",
     "output_type": "stream",
     "text": [
      "Bob sold 14 widgets.\r\n"
     ]
    }
   ],
   "source": [
    "//优先运算括号\n",
    "string firstName = \"Bob\";\n",
    "int widgetsSold = 7;\n",
    "Console.WriteLine(firstName + \" sold \" + (widgetsSold + 7) + \" widgets.\");"
   ]
  },
  {
   "cell_type": "code",
   "execution_count": null,
   "metadata": {
    "dotnet_interactive": {
     "language": "csharp"
    },
    "vscode": {
     "languageId": "dotnet-interactive.csharp"
    }
   },
   "outputs": [
    {
     "name": "stdout",
     "output_type": "stream",
     "text": [
      "Sum: 12\r\n",
      "Difference: 2\r\n",
      "Product: 35\r\n",
      "Quotient: 1\r\n"
     ]
    }
   ],
   "source": [
    "int sum = 7 + 5;\n",
    "int difference = 7 - 5;\n",
    "int product = 7 * 5;\n",
    "int quotient = 7 / 5;\n",
    "//除法将被取整并舍去余数\n",
    "\n",
    "Console.WriteLine(\"Sum: \" + sum);\n",
    "Console.WriteLine(\"Difference: \" + difference);\n",
    "Console.WriteLine(\"Product: \" + product);\n",
    "Console.WriteLine(\"Quotient: \" + quotient);"
   ]
  },
  {
   "cell_type": "code",
   "execution_count": null,
   "metadata": {
    "dotnet_interactive": {
     "language": "csharp"
    },
    "vscode": {
     "languageId": "dotnet-interactive.csharp"
    }
   },
   "outputs": [
    {
     "name": "stdout",
     "output_type": "stream",
     "text": [
      "Decimal quotient: 1.4\r\n"
     ]
    }
   ],
   "source": [
    "//更改类型\n",
    "decimal decimalQuotient = 7.0m / 5;\n",
    "Console.WriteLine(\"Decimal quotient: \" + decimalQuotient);"
   ]
  },
  {
   "cell_type": "code",
   "execution_count": null,
   "metadata": {
    "dotnet_interactive": {
     "language": "csharp"
    },
    "vscode": {
     "languageId": "dotnet-interactive.csharp"
    }
   },
   "outputs": [
    {
     "name": "stdout",
     "output_type": "stream",
     "text": [
      "1.4\r\n"
     ]
    }
   ],
   "source": [
    "//运算前强制转换\n",
    "int first= 7;\n",
    "int second= 5;\n",
    "decimal quotient= (decimal)first / (decimal)second;\n",
    "Console.WriteLine(quotient);"
   ]
  },
  {
   "cell_type": "markdown",
   "metadata": {},
   "source": [
    "## 括号的三种用法\n",
    "- 方法调用\n",
    "- 运算顺序\n",
    "- 强制转换"
   ]
  },
  {
   "cell_type": "code",
   "execution_count": null,
   "metadata": {
    "dotnet_interactive": {
     "language": "csharp"
    },
    "vscode": {
     "languageId": "dotnet-interactive.csharp"
    }
   },
   "outputs": [
    {
     "name": "stdout",
     "output_type": "stream",
     "text": [
      "Modulus of 200 / 5 : 0\r\n",
      "Modulus of 7 / 5 : 2\r\n"
     ]
    }
   ],
   "source": [
    "//余数运算符\n",
    "Console.WriteLine(\"Modulus of 200 / 5 : \" + (200 % 5));\n",
    "Console.WriteLine(\"Modulus of 7 / 5 : \" + (7 % 5));"
   ]
  },
  {
   "cell_type": "markdown",
   "metadata": {},
   "source": [
    "## 运算顺序\n",
    "正如在上一个练习中了解到的，可以使用 () 符号作为运算符运算的顺序。 但是，这不是确定运算顺序的唯一方法。\n",
    "\n",
    "在数学中，PEMDAS 是一个首字母缩略词，有助于学生记住执行多个运算的顺序。 此顺序为：\n",
    "\n",
    "圆括号 (P)（括号内的内容首先执行）\n",
    "指数 (E)\n",
    "乘法 (M) 和除法 (D)（从左至右）\n",
    "加法 (A) 和减法 (S)（从左至右）\n",
    "C# 遵循与 PEMDAS 相同的顺序，但指数除外。 虽然在 C# 中没有指数运算符，但可以使用 `System.Math.Pow()` 方法，此方法可从 .NET 类库中获得。 模块“使用 C# 从 .NET 库类调用方法”将使用此方法和其他方法。"
   ]
  },
  {
   "cell_type": "code",
   "execution_count": null,
   "metadata": {
    "dotnet_interactive": {
     "language": "csharp"
    },
    "vscode": {
     "languageId": "dotnet-interactive.csharp"
    }
   },
   "outputs": [
    {
     "name": "stdout",
     "output_type": "stream",
     "text": [
      "23\r\n",
      "35\r\n"
     ]
    }
   ],
   "source": [
    "int value1 = 3 + 4 * 5;\n",
    "int value2 = (3 + 4) * 5;\n",
    "Console.WriteLine(value1);\n",
    "Console.WriteLine(value2);"
   ]
  },
  {
   "cell_type": "code",
   "execution_count": null,
   "metadata": {
    "dotnet_interactive": {
     "language": "csharp"
    },
    "vscode": {
     "languageId": "dotnet-interactive.csharp"
    }
   },
   "outputs": [],
   "source": [
    "//递增(自身相加)\n",
    "int value = 0;\n",
    "//两个相同的运算\n",
    "value = value + 5;\n",
    "value += 5;"
   ]
  },
  {
   "cell_type": "code",
   "execution_count": null,
   "metadata": {
    "dotnet_interactive": {
     "language": "csharp"
    },
    "vscode": {
     "languageId": "dotnet-interactive.csharp"
    }
   },
   "outputs": [],
   "source": [
    "int value = 0;\n",
    "//两个相同的运算\n",
    "value = value + 1;\n",
    "value++;"
   ]
  },
  {
   "cell_type": "markdown",
   "metadata": {},
   "source": [
    "## 混合赋值运算符\n",
    "++ += -= 等"
   ]
  },
  {
   "cell_type": "code",
   "execution_count": null,
   "metadata": {
    "dotnet_interactive": {
     "language": "csharp"
    },
    "vscode": {
     "languageId": "dotnet-interactive.csharp"
    }
   },
   "outputs": [
    {
     "name": "stdout",
     "output_type": "stream",
     "text": [
      "First: 2\r\n",
      "Second: 2\r\n",
      "Third: 3\r\n",
      "Fourth: 4\r\n"
     ]
    }
   ],
   "source": [
    "int value = 1;\n",
    "value++;\n",
    "Console.WriteLine(\"First: \" + value);\n",
    "//先输出再递增\n",
    "Console.WriteLine(\"Second: \" + value++);\n",
    "Console.WriteLine(\"Third: \" + value);\n",
    "//先递增再输出\n",
    "Console.WriteLine(\"Fourth: \" + (++value));"
   ]
  },
  {
   "cell_type": "code",
   "execution_count": null,
   "metadata": {
    "dotnet_interactive": {
     "language": "csharp"
    },
    "vscode": {
     "languageId": "dotnet-interactive.csharp"
    }
   },
   "outputs": [
    {
     "name": "stdout",
     "output_type": "stream",
     "text": [
      "The temp is 34.444444444444444444444444447 Cels.\r\n"
     ]
    }
   ],
   "source": [
    "//Challenge\n",
    "int fah= 94;\n",
    "decimal cels;\n",
    "Console.WriteLine(\"The temp is \"+(fah- 32)* (decimal)(5 / 9m)+\" Cels.\")\n",
    "//实验性复杂写法"
   ]
  },
  {
   "cell_type": "markdown",
   "metadata": {},
   "source": [
    "## WriteLine内运算\n",
    "不声明,默认是`int`,即不显示小数"
   ]
  }
 ],
 "metadata": {
  "kernelspec": {
   "display_name": ".NET (C#)",
   "language": "C#",
   "name": ".net-csharp"
  },
  "language_info": {
   "file_extension": ".cs",
   "mimetype": "text/x-csharp",
   "name": "C#",
   "pygments_lexer": "csharp",
   "version": "9.0"
  },
  "orig_nbformat": 4
 },
 "nbformat": 4,
 "nbformat_minor": 2
}
